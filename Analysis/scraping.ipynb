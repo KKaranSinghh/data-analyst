{
 "cells": [
  {
   "cell_type": "markdown",
   "metadata": {},
   "source": [
    "## dputils"
   ]
  },
  {
   "cell_type": "code",
   "execution_count": 21,
   "metadata": {},
   "outputs": [],
   "source": [
    "from dputils.scrape import Scraper, Tag\n",
    "from pprint import pp"
   ]
  },
  {
   "cell_type": "markdown",
   "metadata": {},
   "source": [
    "- Tag class helps to decide what to collect from the page\n",
    "- Scraper executes the scraping process"
   ]
  },
  {
   "cell_type": "code",
   "execution_count": 22,
   "metadata": {},
   "outputs": [],
   "source": [
    "url= 'https://www.flipkart.com/search?q=mobile&otracker=search&otracker1=search&marketplace=FLIPKART&as-show=on&as=off'"
   ]
  },
  {
   "cell_type": "code",
   "execution_count": 23,
   "metadata": {},
   "outputs": [
    {
     "data": {
      "text/plain": [
       "<bound method Scraper.get_repeating_date_from_page of <dputils.scrape.Scraper object at 0x000001521BBBEF60>>"
      ]
     },
     "execution_count": 23,
     "metadata": {},
     "output_type": "execute_result"
    }
   ],
   "source": [
    "scraper= Scraper(url)\n",
    "scraper.get_repeating_date_from_page"
   ]
  },
  {
   "cell_type": "code",
   "execution_count": 24,
   "metadata": {},
   "outputs": [],
   "source": [
    "result= scraper.get_repeating_date_from_page(\n",
    "    target=Tag('div', cls='DOjaWF gdgoEp'),\n",
    "    items=Tag('div', cls='_75nlfW'),\n",
    "    title=Tag('div', cls='KzDlHZ'),\n",
    "    price=Tag('div', cls='Nx9bqj _4b5DiR')\n",
    ")"
   ]
  },
  {
   "cell_type": "code",
   "execution_count": 25,
   "metadata": {},
   "outputs": [
    {
     "data": {
      "text/plain": [
       "[{'title': 'OPPO K12x 5G with 45W SUPERVOOC Charger In-The-Box (Midnight Voilet, 128 GB)',\n",
       "  'price': '₹12,999'},\n",
       " {'title': 'CMF by Nothing Phone 1 (Blue, 128 GB)', 'price': '₹16,499'},\n",
       " {'title': 'REDMI 13C (Stardust Black, 128 GB)', 'price': '₹7,199'},\n",
       " {'title': 'Motorola Edge 50 Fusion (Marshmallow Blue, 256 GB)',\n",
       "  'price': '₹23,999'},\n",
       " {'title': 'vivo V30 Pro 5G (Andaman Blue, 256 GB)', 'price': '₹38,999'},\n",
       " {'title': 'REDMI 13C (Starfrost White, 128 GB)', 'price': '₹7,199'},\n",
       " {'title': 'Apple iPhone 15 (Blue, 128 GB)', 'price': '₹57,999'},\n",
       " {'title': 'vivo T3 Lite 5G (Majestic Black, 128 GB)', 'price': '₹11,499'},\n",
       " {'title': 'vivo T3 Lite 5G (Vibrant Green, 128 GB)', 'price': '₹11,499'},\n",
       " {'title': 'vivo T3 Lite 5G (Majestic Black, 128 GB)', 'price': '₹10,499'},\n",
       " {'title': 'vivo T3 Lite 5G (Vibrant Green, 128 GB)', 'price': '₹10,499'},\n",
       " {'title': 'SAMSUNG Galaxy A14 5G (Dark Red, 128 GB)', 'price': '₹10,999'},\n",
       " {'title': 'realme 12x 5G (Coral Red, 128 GB)', 'price': '₹13,499'},\n",
       " {'title': 'Motorola g45 5G (Brilliant Blue, 128 GB)', 'price': '₹11,999'},\n",
       " {'title': 'SAMSUNG Galaxy F05 (Twilight Blue, 64 GB)', 'price': '₹6,499'},\n",
       " {'title': 'vivo T3x 5G (Crimson Bliss, 128 GB)', 'price': '₹14,499'},\n",
       " {'title': 'vivo T3x 5G (Crimson Bliss, 128 GB)', 'price': '₹12,999'},\n",
       " {'title': 'vivo T3x 5G (Celestial Green, 128 GB)', 'price': '₹14,499'},\n",
       " {'title': 'vivo T3x 5G (Celestial Green, 128 GB)', 'price': '₹12,999'},\n",
       " {'title': 'Motorola g45 5G (Brilliant Green, 128 GB)', 'price': '₹11,999'},\n",
       " {'title': 'Apple iPhone 15 Plus (Blue, 128 GB)', 'price': '₹65,999'},\n",
       " {'title': 'vivo T3x 5G (Celestial Green, 128 GB)', 'price': '₹15,999'},\n",
       " {'title': 'vivo T3x 5G (Sapphire Blue, 128 GB)', 'price': '₹12,999'},\n",
       " {'title': 'vivo T3x 5G (Sapphire Blue, 128 GB)', 'price': '₹14,499'}]"
      ]
     },
     "execution_count": 25,
     "metadata": {},
     "output_type": "execute_result"
    }
   ],
   "source": [
    "result"
   ]
  },
  {
   "cell_type": "code",
   "execution_count": 26,
   "metadata": {},
   "outputs": [],
   "source": [
    "import pandas as pd"
   ]
  },
  {
   "cell_type": "code",
   "execution_count": 27,
   "metadata": {},
   "outputs": [
    {
     "data": {
      "text/html": [
       "<div>\n",
       "<style scoped>\n",
       "    .dataframe tbody tr th:only-of-type {\n",
       "        vertical-align: middle;\n",
       "    }\n",
       "\n",
       "    .dataframe tbody tr th {\n",
       "        vertical-align: top;\n",
       "    }\n",
       "\n",
       "    .dataframe thead th {\n",
       "        text-align: right;\n",
       "    }\n",
       "</style>\n",
       "<table border=\"1\" class=\"dataframe\">\n",
       "  <thead>\n",
       "    <tr style=\"text-align: right;\">\n",
       "      <th></th>\n",
       "      <th>title</th>\n",
       "      <th>price</th>\n",
       "    </tr>\n",
       "  </thead>\n",
       "  <tbody>\n",
       "    <tr>\n",
       "      <th>0</th>\n",
       "      <td>OPPO K12x 5G with 45W SUPERVOOC Charger In-The...</td>\n",
       "      <td>₹12,999</td>\n",
       "    </tr>\n",
       "    <tr>\n",
       "      <th>1</th>\n",
       "      <td>CMF by Nothing Phone 1 (Blue, 128 GB)</td>\n",
       "      <td>₹16,499</td>\n",
       "    </tr>\n",
       "    <tr>\n",
       "      <th>2</th>\n",
       "      <td>REDMI 13C (Stardust Black, 128 GB)</td>\n",
       "      <td>₹7,199</td>\n",
       "    </tr>\n",
       "    <tr>\n",
       "      <th>3</th>\n",
       "      <td>Motorola Edge 50 Fusion (Marshmallow Blue, 256...</td>\n",
       "      <td>₹23,999</td>\n",
       "    </tr>\n",
       "    <tr>\n",
       "      <th>4</th>\n",
       "      <td>vivo V30 Pro 5G (Andaman Blue, 256 GB)</td>\n",
       "      <td>₹38,999</td>\n",
       "    </tr>\n",
       "    <tr>\n",
       "      <th>5</th>\n",
       "      <td>REDMI 13C (Starfrost White, 128 GB)</td>\n",
       "      <td>₹7,199</td>\n",
       "    </tr>\n",
       "    <tr>\n",
       "      <th>6</th>\n",
       "      <td>Apple iPhone 15 (Blue, 128 GB)</td>\n",
       "      <td>₹57,999</td>\n",
       "    </tr>\n",
       "    <tr>\n",
       "      <th>7</th>\n",
       "      <td>vivo T3 Lite 5G (Majestic Black, 128 GB)</td>\n",
       "      <td>₹11,499</td>\n",
       "    </tr>\n",
       "    <tr>\n",
       "      <th>8</th>\n",
       "      <td>vivo T3 Lite 5G (Vibrant Green, 128 GB)</td>\n",
       "      <td>₹11,499</td>\n",
       "    </tr>\n",
       "    <tr>\n",
       "      <th>9</th>\n",
       "      <td>vivo T3 Lite 5G (Majestic Black, 128 GB)</td>\n",
       "      <td>₹10,499</td>\n",
       "    </tr>\n",
       "    <tr>\n",
       "      <th>10</th>\n",
       "      <td>vivo T3 Lite 5G (Vibrant Green, 128 GB)</td>\n",
       "      <td>₹10,499</td>\n",
       "    </tr>\n",
       "    <tr>\n",
       "      <th>11</th>\n",
       "      <td>SAMSUNG Galaxy A14 5G (Dark Red, 128 GB)</td>\n",
       "      <td>₹10,999</td>\n",
       "    </tr>\n",
       "    <tr>\n",
       "      <th>12</th>\n",
       "      <td>realme 12x 5G (Coral Red, 128 GB)</td>\n",
       "      <td>₹13,499</td>\n",
       "    </tr>\n",
       "    <tr>\n",
       "      <th>13</th>\n",
       "      <td>Motorola g45 5G (Brilliant Blue, 128 GB)</td>\n",
       "      <td>₹11,999</td>\n",
       "    </tr>\n",
       "    <tr>\n",
       "      <th>14</th>\n",
       "      <td>SAMSUNG Galaxy F05 (Twilight Blue, 64 GB)</td>\n",
       "      <td>₹6,499</td>\n",
       "    </tr>\n",
       "    <tr>\n",
       "      <th>15</th>\n",
       "      <td>vivo T3x 5G (Crimson Bliss, 128 GB)</td>\n",
       "      <td>₹14,499</td>\n",
       "    </tr>\n",
       "    <tr>\n",
       "      <th>16</th>\n",
       "      <td>vivo T3x 5G (Crimson Bliss, 128 GB)</td>\n",
       "      <td>₹12,999</td>\n",
       "    </tr>\n",
       "    <tr>\n",
       "      <th>17</th>\n",
       "      <td>vivo T3x 5G (Celestial Green, 128 GB)</td>\n",
       "      <td>₹14,499</td>\n",
       "    </tr>\n",
       "    <tr>\n",
       "      <th>18</th>\n",
       "      <td>vivo T3x 5G (Celestial Green, 128 GB)</td>\n",
       "      <td>₹12,999</td>\n",
       "    </tr>\n",
       "    <tr>\n",
       "      <th>19</th>\n",
       "      <td>Motorola g45 5G (Brilliant Green, 128 GB)</td>\n",
       "      <td>₹11,999</td>\n",
       "    </tr>\n",
       "    <tr>\n",
       "      <th>20</th>\n",
       "      <td>Apple iPhone 15 Plus (Blue, 128 GB)</td>\n",
       "      <td>₹65,999</td>\n",
       "    </tr>\n",
       "    <tr>\n",
       "      <th>21</th>\n",
       "      <td>vivo T3x 5G (Celestial Green, 128 GB)</td>\n",
       "      <td>₹15,999</td>\n",
       "    </tr>\n",
       "    <tr>\n",
       "      <th>22</th>\n",
       "      <td>vivo T3x 5G (Sapphire Blue, 128 GB)</td>\n",
       "      <td>₹12,999</td>\n",
       "    </tr>\n",
       "    <tr>\n",
       "      <th>23</th>\n",
       "      <td>vivo T3x 5G (Sapphire Blue, 128 GB)</td>\n",
       "      <td>₹14,499</td>\n",
       "    </tr>\n",
       "  </tbody>\n",
       "</table>\n",
       "</div>"
      ],
      "text/plain": [
       "                                                title    price\n",
       "0   OPPO K12x 5G with 45W SUPERVOOC Charger In-The...  ₹12,999\n",
       "1               CMF by Nothing Phone 1 (Blue, 128 GB)  ₹16,499\n",
       "2                  REDMI 13C (Stardust Black, 128 GB)   ₹7,199\n",
       "3   Motorola Edge 50 Fusion (Marshmallow Blue, 256...  ₹23,999\n",
       "4              vivo V30 Pro 5G (Andaman Blue, 256 GB)  ₹38,999\n",
       "5                 REDMI 13C (Starfrost White, 128 GB)   ₹7,199\n",
       "6                      Apple iPhone 15 (Blue, 128 GB)  ₹57,999\n",
       "7            vivo T3 Lite 5G (Majestic Black, 128 GB)  ₹11,499\n",
       "8             vivo T3 Lite 5G (Vibrant Green, 128 GB)  ₹11,499\n",
       "9            vivo T3 Lite 5G (Majestic Black, 128 GB)  ₹10,499\n",
       "10            vivo T3 Lite 5G (Vibrant Green, 128 GB)  ₹10,499\n",
       "11           SAMSUNG Galaxy A14 5G (Dark Red, 128 GB)  ₹10,999\n",
       "12                  realme 12x 5G (Coral Red, 128 GB)  ₹13,499\n",
       "13           Motorola g45 5G (Brilliant Blue, 128 GB)  ₹11,999\n",
       "14          SAMSUNG Galaxy F05 (Twilight Blue, 64 GB)   ₹6,499\n",
       "15                vivo T3x 5G (Crimson Bliss, 128 GB)  ₹14,499\n",
       "16                vivo T3x 5G (Crimson Bliss, 128 GB)  ₹12,999\n",
       "17              vivo T3x 5G (Celestial Green, 128 GB)  ₹14,499\n",
       "18              vivo T3x 5G (Celestial Green, 128 GB)  ₹12,999\n",
       "19          Motorola g45 5G (Brilliant Green, 128 GB)  ₹11,999\n",
       "20                Apple iPhone 15 Plus (Blue, 128 GB)  ₹65,999\n",
       "21              vivo T3x 5G (Celestial Green, 128 GB)  ₹15,999\n",
       "22                vivo T3x 5G (Sapphire Blue, 128 GB)  ₹12,999\n",
       "23                vivo T3x 5G (Sapphire Blue, 128 GB)  ₹14,499"
      ]
     },
     "execution_count": 27,
     "metadata": {},
     "output_type": "execute_result"
    }
   ],
   "source": [
    "df = pd.DataFrame(result)\n",
    "df"
   ]
  },
  {
   "cell_type": "code",
   "execution_count": 28,
   "metadata": {},
   "outputs": [
    {
     "data": {
      "text/plain": [
       "Index(['title', 'price'], dtype='object')"
      ]
     },
     "execution_count": 28,
     "metadata": {},
     "output_type": "execute_result"
    }
   ],
   "source": [
    "df.columns"
   ]
  },
  {
   "cell_type": "code",
   "execution_count": 29,
   "metadata": {},
   "outputs": [],
   "source": []
  }
 ],
 "metadata": {
  "kernelspec": {
   "display_name": "base",
   "language": "python",
   "name": "python3"
  },
  "language_info": {
   "codemirror_mode": {
    "name": "ipython",
    "version": 3
   },
   "file_extension": ".py",
   "mimetype": "text/x-python",
   "name": "python",
   "nbconvert_exporter": "python",
   "pygments_lexer": "ipython3",
   "version": "3.12.3"
  }
 },
 "nbformat": 4,
 "nbformat_minor": 2
}
