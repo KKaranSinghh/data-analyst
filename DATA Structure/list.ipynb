{
 "cells": [
  {
   "cell_type": "markdown",
   "metadata": {},
   "source": [
    "# indexing"
   ]
  },
  {
   "cell_type": "code",
   "execution_count": 139,
   "metadata": {},
   "outputs": [
    {
     "name": "stdout",
     "output_type": "stream",
     "text": [
      "['instagram', 'whatsapp', 'facebook', 'linkdin', 'paytm', 'swiggy', 'zomato', 'twitter', 'chrome', 'uber']\n"
     ]
    }
   ],
   "source": [
    "apps = ['instagram', 'whatsapp', 'facebook', 'linkdin', 'paytm', 'swiggy', 'zomato', 'twitter', 'chrome', 'uber']\n",
    "print(apps)"
   ]
  },
  {
   "cell_type": "code",
   "execution_count": 140,
   "metadata": {},
   "outputs": [
    {
     "name": "stdout",
     "output_type": "stream",
     "text": [
      "zomato\n"
     ]
    }
   ],
   "source": [
    "print(apps[6])   # indexing"
   ]
  },
  {
   "cell_type": "markdown",
   "metadata": {},
   "source": [
    "# reverse indexing"
   ]
  },
  {
   "cell_type": "code",
   "execution_count": 141,
   "metadata": {},
   "outputs": [
    {
     "name": "stdout",
     "output_type": "stream",
     "text": [
      "samsung\n"
     ]
    }
   ],
   "source": [
    "mobile = ['realme', 'redmi','samsung', 'apple', 'vivo', 'oneplus']\n",
    "print(mobile[-4])  # reverse indexing"
   ]
  },
  {
   "cell_type": "markdown",
   "metadata": {},
   "source": [
    "# slicing"
   ]
  },
  {
   "cell_type": "code",
   "execution_count": 142,
   "metadata": {},
   "outputs": [
    {
     "name": "stdout",
     "output_type": "stream",
     "text": [
      "['redmi', 'samsung', 'apple', 'vivo', 'oneplus', 'blackberry']\n"
     ]
    }
   ],
   "source": [
    "mobile = ['realme', 'redmi','samsung', 'apple', 'vivo', 'oneplus', 'blackberry', 'oppo']\n",
    "print(mobile [1 : 7])   # indexing by slicing"
   ]
  },
  {
   "cell_type": "code",
   "execution_count": 143,
   "metadata": {},
   "outputs": [
    {
     "name": "stdout",
     "output_type": "stream",
     "text": [
      "['samsung', 'vivo', 'blackberry']\n"
     ]
    }
   ],
   "source": [
    "print(mobile[2:7:2]) # start range : end range : gap"
   ]
  },
  {
   "cell_type": "code",
   "execution_count": 144,
   "metadata": {},
   "outputs": [
    {
     "name": "stdout",
     "output_type": "stream",
     "text": [
      "['apple', 'vivo', 'oneplus', 'blackberry', 'oppo']\n"
     ]
    }
   ],
   "source": [
    "print(mobile[3:])    # start range"
   ]
  },
  {
   "cell_type": "code",
   "execution_count": 145,
   "metadata": {},
   "outputs": [
    {
     "name": "stdout",
     "output_type": "stream",
     "text": [
      "['realme', 'redmi', 'samsung', 'apple', 'vivo']\n"
     ]
    }
   ],
   "source": [
    "print(mobile[:5])   # end range"
   ]
  },
  {
   "cell_type": "code",
   "execution_count": 146,
   "metadata": {},
   "outputs": [
    {
     "name": "stdout",
     "output_type": "stream",
     "text": [
      "['realme', 'redmi', 'samsung', 'apple', 'vivo', 'oneplus', 'blackberry', 'oppo']\n"
     ]
    }
   ],
   "source": [
    "print(mobile[:])  # not define range then it will print full list"
   ]
  },
  {
   "cell_type": "markdown",
   "metadata": {},
   "source": [
    "## Methods\n",
    "- append\n",
    "- insert\n",
    "- pop\n",
    "- remove\n",
    "- copy\n",
    "- extend\n",
    "- clear\n",
    "- sort"
   ]
  },
  {
   "cell_type": "code",
   "execution_count": 147,
   "metadata": {},
   "outputs": [
    {
     "name": "stdout",
     "output_type": "stream",
     "text": [
      "['realme', 'redmi', 'samsung', 'apple', 'vivo', 'oneplus', 'blackberry', 'oppo']\n"
     ]
    }
   ],
   "source": [
    "print(mobile)"
   ]
  },
  {
   "cell_type": "code",
   "execution_count": 148,
   "metadata": {},
   "outputs": [
    {
     "name": "stdout",
     "output_type": "stream",
     "text": [
      "['realme', 'redmi', 'samsung', 'apple', 'vivo', 'oneplus', 'blackberry', 'oppo']\n"
     ]
    }
   ],
   "source": [
    "mobile2 = mobile.copy()        # (copy method)\n",
    "print(mobile2)"
   ]
  },
  {
   "cell_type": "code",
   "execution_count": 149,
   "metadata": {},
   "outputs": [
    {
     "name": "stdout",
     "output_type": "stream",
     "text": [
      "['realme', 'redmi', 'samsung', 'apple', 'vivo', 'oneplus', 'blackberry', 'oppo', 'lava']\n"
     ]
    }
   ],
   "source": [
    "mobile.append('lava')          # (append method)\n",
    "print(mobile)"
   ]
  },
  {
   "cell_type": "code",
   "execution_count": 150,
   "metadata": {},
   "outputs": [
    {
     "name": "stdout",
     "output_type": "stream",
     "text": [
      "['realme', 'redmi', 'samsung', 'lenovo', 'apple', 'vivo', 'oneplus', 'blackberry', 'oppo', 'lava']\n"
     ]
    }
   ],
   "source": [
    "mobile.insert(3,'lenovo')     # (insert method)\n",
    "print(mobile)"
   ]
  },
  {
   "cell_type": "code",
   "execution_count": 151,
   "metadata": {},
   "outputs": [
    {
     "name": "stdout",
     "output_type": "stream",
     "text": [
      "['realme', 'redmi', 'samsung', 'lenovo', 'apple', 'vivo', 'oneplus', 'blackberry', 'oppo']\n"
     ]
    }
   ],
   "source": [
    "mobile.pop(-1)                # (pop method) it will remove by index\n",
    "print(mobile)"
   ]
  },
  {
   "cell_type": "code",
   "execution_count": 152,
   "metadata": {},
   "outputs": [
    {
     "name": "stdout",
     "output_type": "stream",
     "text": [
      "['realme', 'redmi', 'samsung', 'lenovo', 'apple', 'vivo', 'oneplus', 'oppo']\n"
     ]
    }
   ],
   "source": [
    "mobile.remove('blackberry')    # (remove method) it will remove the name in list\n",
    "print(mobile)"
   ]
  },
  {
   "cell_type": "code",
   "execution_count": 153,
   "metadata": {},
   "outputs": [
    {
     "name": "stdout",
     "output_type": "stream",
     "text": [
      "['apple', 'lenovo', 'oneplus', 'oppo', 'realme', 'redmi', 'samsung', 'vivo']\n"
     ]
    }
   ],
   "source": [
    "mobile.sort()             # (sort method) it will structure the list orderwise\n",
    "print(mobile)"
   ]
  },
  {
   "cell_type": "code",
   "execution_count": 154,
   "metadata": {},
   "outputs": [
    {
     "name": "stdout",
     "output_type": "stream",
     "text": [
      "[1, 2, 3, 4, 5]\n"
     ]
    }
   ],
   "source": [
    "a = [1, 2, 3, 4, 5]    # New list\n",
    "print(a)"
   ]
  },
  {
   "cell_type": "code",
   "execution_count": 155,
   "metadata": {},
   "outputs": [
    {
     "name": "stdout",
     "output_type": "stream",
     "text": [
      "['apple', 'lenovo', 'oneplus', 'oppo', 'realme', 'redmi', 'samsung', 'vivo', 1, 2, 3, 4, 5]\n"
     ]
    }
   ],
   "source": [
    "mobile.extend(a)      #  (extend method) it will combine the 2 lists\n",
    "print(mobile)"
   ]
  },
  {
   "cell_type": "code",
   "execution_count": 156,
   "metadata": {},
   "outputs": [
    {
     "name": "stdout",
     "output_type": "stream",
     "text": [
      "[]\n"
     ]
    }
   ],
   "source": [
    "mobile.clear()        # (clear method) it will clear the list\n",
    "print(mobile)"
   ]
  },
  {
   "cell_type": "code",
   "execution_count": 157,
   "metadata": {},
   "outputs": [
    {
     "name": "stdout",
     "output_type": "stream",
     "text": [
      "['realme', 'redmi', 'apple', 'vivo', 'oneplus', 'blackberry', 'oppo']\n"
     ]
    }
   ],
   "source": [
    "mobile2.remove('samsung')\n",
    "print(mobile2)"
   ]
  }
 ],
 "metadata": {
  "kernelspec": {
   "display_name": "base",
   "language": "python",
   "name": "python3"
  },
  "language_info": {
   "codemirror_mode": {
    "name": "ipython",
    "version": 3
   },
   "file_extension": ".py",
   "mimetype": "text/x-python",
   "name": "python",
   "nbconvert_exporter": "python",
   "pygments_lexer": "ipython3",
   "version": "3.12.3"
  }
 },
 "nbformat": 4,
 "nbformat_minor": 2
}
