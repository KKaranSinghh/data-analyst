{
 "cells": [
  {
   "cell_type": "markdown",
   "metadata": {},
   "source": [
    "- how to declare dictionary in different ways\n",
    "- how to access key and values of dictionary\n",
    "- how to use loops in dictionary\n",
    "- nested dictionary"
   ]
  },
  {
   "cell_type": "code",
   "execution_count": 1,
   "metadata": {},
   "outputs": [
    {
     "name": "stdout",
     "output_type": "stream",
     "text": [
      "{'name': 'john', 'class': '12th', 'roll_no': 2, 'age': 17}\n"
     ]
    }
   ],
   "source": [
    "student = {\n",
    "    \"name\" : \"john\",\n",
    "    \"class\" : \"12th\",\n",
    "    \"roll_no\" : 2,\n",
    "    \"age\" : 17\n",
    "}\n",
    "print(student)"
   ]
  },
  {
   "cell_type": "code",
   "execution_count": 2,
   "metadata": {},
   "outputs": [
    {
     "name": "stdout",
     "output_type": "stream",
     "text": [
      "{'lucknow': [25, 30, 35], 'delhi': [30, 35, 40], 'chenni': [24, 23, 22]}\n"
     ]
    }
   ],
   "source": [
    "temp = {\n",
    "    'lucknow' : [25,30,35],\n",
    "    'delhi' : [30,35,40],\n",
    "    'chenni' : [24,23,22]\n",
    "}\n",
    "print(temp)"
   ]
  },
  {
   "cell_type": "code",
   "execution_count": 3,
   "metadata": {},
   "outputs": [
    {
     "name": "stdout",
     "output_type": "stream",
     "text": [
      "{'name': 'john', 'age': 17, 'roll_no': 2, 'class_': '12th'}\n"
     ]
    }
   ],
   "source": [
    "info = dict(name = 'john', age = 17, roll_no = 2, class_ = '12th')\n",
    "print(info)"
   ]
  },
  {
   "cell_type": "code",
   "execution_count": 4,
   "metadata": {},
   "outputs": [
    {
     "name": "stdout",
     "output_type": "stream",
     "text": [
      "{'name': 'karan singh', 'age': 18, 'roll_no': 14, 'class_': '7'}\n"
     ]
    }
   ],
   "source": [
    "info2 = dict(name=input('enter your name : '),\n",
    "        age = int(input('enter your age :')),\n",
    "        roll_no = int(input('enter your roll_no :')),\n",
    "        class_ = input('enter your class :'))\n",
    "print(info2)\n"
   ]
  },
  {
   "cell_type": "code",
   "execution_count": 6,
   "metadata": {},
   "outputs": [
    {
     "name": "stdout",
     "output_type": "stream",
     "text": [
      "john\n",
      "[25, 30, 35]\n"
     ]
    }
   ],
   "source": [
    "# 1st method to access the value of a key\n",
    "\n",
    "print(student['name'])\n",
    "print(temp['lucknow'])"
   ]
  },
  {
   "cell_type": "code",
   "execution_count": 8,
   "metadata": {},
   "outputs": [
    {
     "name": "stdout",
     "output_type": "stream",
     "text": [
      "17\n",
      "12th\n"
     ]
    }
   ],
   "source": [
    "# 2nd method to access the value of a key\n",
    "\n",
    "print(student.get('age'))\n",
    "print(info.get('class_'))"
   ]
  },
  {
   "cell_type": "code",
   "execution_count": 9,
   "metadata": {},
   "outputs": [
    {
     "name": "stdout",
     "output_type": "stream",
     "text": [
      "{'name': 'john', 'class': '12th', 'roll_no': 2, 'age': 17, 'city': 'lucknow', 'school': 'DPS'}\n"
     ]
    }
   ],
   "source": [
    "# to add items in a dictionary\n",
    "\n",
    "student['city'] = 'lucknow'\n",
    "student['school'] = 'DPS'\n",
    "print(student)"
   ]
  },
  {
   "cell_type": "code",
   "execution_count": 10,
   "metadata": {},
   "outputs": [
    {
     "name": "stdout",
     "output_type": "stream",
     "text": [
      "{'name': 'john', 'class': '12th', 'roll_no': 2, 'age': 17, 'city': 'lucknow'}\n"
     ]
    }
   ],
   "source": [
    "# 1st method to remove items in a dictionary\n",
    "\n",
    "student.pop('school')\n",
    "print(student)"
   ]
  },
  {
   "cell_type": "code",
   "execution_count": 11,
   "metadata": {},
   "outputs": [
    {
     "name": "stdout",
     "output_type": "stream",
     "text": [
      "{'name': 'john', 'class': '12th', 'age': 17, 'city': 'lucknow'}\n"
     ]
    }
   ],
   "source": [
    "#  2nd method to remove items in a dictionary\n",
    "\n",
    "del student['roll_no']\n",
    "print(student)"
   ]
  },
  {
   "cell_type": "code",
   "execution_count": 12,
   "metadata": {},
   "outputs": [
    {
     "name": "stdout",
     "output_type": "stream",
     "text": [
      "name\n",
      "age\n",
      "roll_no\n",
      "class_\n"
     ]
    }
   ],
   "source": [
    "for k in info:\n",
    "    print(k)"
   ]
  },
  {
   "cell_type": "code",
   "execution_count": 15,
   "metadata": {},
   "outputs": [
    {
     "name": "stdout",
     "output_type": "stream",
     "text": [
      "name : karan singh\n",
      "age : 18\n",
      "roll_no : 14\n",
      "class_ : 7\n"
     ]
    }
   ],
   "source": [
    "for k,v in info2.items():\n",
    "    print(f'{k} : {v}')"
   ]
  },
  {
   "cell_type": "code",
   "execution_count": 16,
   "metadata": {},
   "outputs": [
    {
     "name": "stdout",
     "output_type": "stream",
     "text": [
      "dict_values(['john', '12th', 17, 'lucknow'])\n",
      "dict_keys(['name', 'class', 'age', 'city'])\n",
      "dict_items([('name', 'john'), ('class', '12th'), ('age', 17), ('city', 'lucknow')])\n"
     ]
    }
   ],
   "source": [
    "# to print values\n",
    "\n",
    "print(student.values())\n",
    "print(student.keys())\n",
    "print(student.items())"
   ]
  },
  {
   "cell_type": "code",
   "execution_count": 19,
   "metadata": {},
   "outputs": [
    {
     "name": "stdout",
     "output_type": "stream",
     "text": [
      "{'emp001': {'name': 'john', 'age': 25, 'dept': 'HR', 'salary': 25000}, 'emp002': {'name': 'emma', 'age': 30, 'dept': 'finance', 'salary': 30000}, 'emp003': {'name': 'linda', 'age': 35, 'dept': 'IT', 'salary': 35000}, 'emp004': {'name': 'david', 'age': 40, 'dept': 'Admin', 'salary': 40000}}\n"
     ]
    }
   ],
   "source": [
    "company = {\n",
    "    'emp001' : {'name': 'john', 'age' : 25, 'dept' : 'HR', 'salary':25000},\n",
    "    'emp002' : {'name': 'emma', 'age' : 30, 'dept' : 'finance', 'salary':30000},\n",
    "    'emp003' : {'name': 'linda', 'age' : 35, 'dept' : 'IT', 'salary':35000},\n",
    "    'emp004' : {'name': 'david', 'age' : 40, 'dept' : 'Admin', 'salary':40000},\n",
    "}\n",
    "print(company)"
   ]
  },
  {
   "cell_type": "code",
   "execution_count": 20,
   "metadata": {},
   "outputs": [],
   "source": [
    "# (pretty print) pp to print dictionary as we writen\n",
    "\n",
    "from pprint import pp"
   ]
  },
  {
   "cell_type": "code",
   "execution_count": 21,
   "metadata": {},
   "outputs": [
    {
     "name": "stdout",
     "output_type": "stream",
     "text": [
      "{'emp001': {'name': 'john', 'age': 25, 'dept': 'HR', 'salary': 25000},\n",
      " 'emp002': {'name': 'emma', 'age': 30, 'dept': 'finance', 'salary': 30000},\n",
      " 'emp003': {'name': 'linda', 'age': 35, 'dept': 'IT', 'salary': 35000},\n",
      " 'emp004': {'name': 'david', 'age': 40, 'dept': 'Admin', 'salary': 40000}}\n"
     ]
    }
   ],
   "source": [
    "pp(company)"
   ]
  },
  {
   "cell_type": "code",
   "execution_count": 22,
   "metadata": {},
   "outputs": [
    {
     "name": "stdout",
     "output_type": "stream",
     "text": [
      "{'name': 'emma', 'age': 30, 'dept': 'finance', 'salary': 30000}\n"
     ]
    }
   ],
   "source": [
    "print(company['emp002'])   # it use to find any perticular employe"
   ]
  },
  {
   "cell_type": "code",
   "execution_count": 23,
   "metadata": {},
   "outputs": [
    {
     "name": "stdout",
     "output_type": "stream",
     "text": [
      "finance\n"
     ]
    }
   ],
   "source": [
    "print(company['emp002']['dept'])   # find perticular dept"
   ]
  },
  {
   "cell_type": "code",
   "execution_count": 25,
   "metadata": {},
   "outputs": [
    {
     "name": "stdout",
     "output_type": "stream",
     "text": [
      "40\n"
     ]
    }
   ],
   "source": [
    "print(company['emp004']['age'])    # find perticular emp age"
   ]
  },
  {
   "cell_type": "code",
   "execution_count": 29,
   "metadata": {},
   "outputs": [
    {
     "name": "stderr",
     "output_type": "stream",
     "text": [
      "<>:1: SyntaxWarning: str indices must be integers or slices, not str; perhaps you missed a comma?\n",
      "<>:1: SyntaxWarning: str indices must be integers or slices, not str; perhaps you missed a comma?\n",
      "C:\\Users\\Karan Singh\\AppData\\Local\\Temp\\ipykernel_20936\\4197487540.py:1: SyntaxWarning: str indices must be integers or slices, not str; perhaps you missed a comma?\n",
      "  company['emp005'] = 'name' ['karan']\n"
     ]
    },
    {
     "ename": "TypeError",
     "evalue": "string indices must be integers, not 'str'",
     "output_type": "error",
     "traceback": [
      "\u001b[1;31m---------------------------------------------------------------------------\u001b[0m",
      "\u001b[1;31mTypeError\u001b[0m                                 Traceback (most recent call last)",
      "Cell \u001b[1;32mIn[29], line 1\u001b[0m\n\u001b[1;32m----> 1\u001b[0m company[\u001b[38;5;124m'\u001b[39m\u001b[38;5;124memp005\u001b[39m\u001b[38;5;124m'\u001b[39m] \u001b[38;5;241m=\u001b[39m \u001b[38;5;124;43m'\u001b[39;49m\u001b[38;5;124;43mname\u001b[39;49m\u001b[38;5;124;43m'\u001b[39;49m\u001b[43m \u001b[49m\u001b[43m[\u001b[49m\u001b[38;5;124;43m'\u001b[39;49m\u001b[38;5;124;43mkaran\u001b[39;49m\u001b[38;5;124;43m'\u001b[39;49m\u001b[43m]\u001b[49m\n\u001b[0;32m      2\u001b[0m \u001b[38;5;28mprint\u001b[39m(company)\n",
      "\u001b[1;31mTypeError\u001b[0m: string indices must be integers, not 'str'"
     ]
    }
   ],
   "source": [
    "company['emp005']\n"
   ]
  },
  {
   "cell_type": "code",
   "execution_count": 31,
   "metadata": {},
   "outputs": [
    {
     "name": "stdout",
     "output_type": "stream",
     "text": [
      "25\n",
      "40\n"
     ]
    }
   ],
   "source": [
    "# to enter the index value\n",
    "\n",
    "print(temp['lucknow'][0])\n",
    "print(temp['delhi'][2])"
   ]
  },
  {
   "cell_type": "code",
   "execution_count": 40,
   "metadata": {},
   "outputs": [
    {
     "name": "stdout",
     "output_type": "stream",
     "text": [
      "average temperature of delhi is : 35.0\n"
     ]
    }
   ],
   "source": [
    "# to find the average of a temperature\n",
    "\n",
    "print('average temperature of delhi is :', sum(temp['delhi'])/len(temp['delhi'])) "
   ]
  },
  {
   "cell_type": "code",
   "execution_count": null,
   "metadata": {},
   "outputs": [],
   "source": []
  }
 ],
 "metadata": {
  "kernelspec": {
   "display_name": "base",
   "language": "python",
   "name": "python3"
  },
  "language_info": {
   "codemirror_mode": {
    "name": "ipython",
    "version": 3
   },
   "file_extension": ".py",
   "mimetype": "text/x-python",
   "name": "python",
   "nbconvert_exporter": "python",
   "pygments_lexer": "ipython3",
   "version": "3.12.3"
  }
 },
 "nbformat": 4,
 "nbformat_minor": 2
}
