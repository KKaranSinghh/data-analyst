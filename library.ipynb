{
 "cells": [
  {
   "cell_type": "markdown",
   "metadata": {},
   "source": [
    "## Math Library"
   ]
  },
  {
   "cell_type": "code",
   "execution_count": 17,
   "metadata": {},
   "outputs": [],
   "source": [
    "import math"
   ]
  },
  {
   "cell_type": "code",
   "execution_count": 18,
   "metadata": {},
   "outputs": [
    {
     "name": "stdout",
     "output_type": "stream",
     "text": [
      "3.0\n",
      "8.0\n",
      "120\n",
      "3.141592653589793\n",
      "2.718281828459045\n",
      "4\n",
      "24\n",
      "0.8414709848078965\n",
      "0.5403023058681398\n",
      "1.5574077246549023\n"
     ]
    }
   ],
   "source": [
    "print(math.sqrt(9))         # sqare root\n",
    "print(math.pow(2,3))        # power\n",
    "print(math.factorial(5))    # factorial\n",
    "print(math.pi)              # pi\n",
    "print(math.e)               # e\n",
    "print(math.gcd(12, 8))      # gratest common diviser\n",
    "print(math.lcm(12, 8))      # lowest common diviser\n",
    "print(math.sin(1))          # sim\n",
    "print(math.cos(1))          # cos\n",
    "print(math.tan(1))          # tan"
   ]
  },
  {
   "cell_type": "markdown",
   "metadata": {},
   "source": [
    "## Random library"
   ]
  },
  {
   "cell_type": "code",
   "execution_count": 19,
   "metadata": {},
   "outputs": [],
   "source": [
    "from random import random, randint, choice, shuffle"
   ]
  },
  {
   "cell_type": "code",
   "execution_count": 20,
   "metadata": {},
   "outputs": [
    {
     "name": "stdout",
     "output_type": "stream",
     "text": [
      "get a random number between 0 and 1: 0.046815809543140574\n",
      "get a random number between 1 to 100: 68\n",
      "get a random element from a list: 1\n"
     ]
    }
   ],
   "source": [
    "print('get a random number between 0 and 1:', random())         # it will give closest number in floting numbers\n",
    "print('get a random number between 1 to 100:', randint(1,100))  # it will give you integer random number \n",
    "print('get a random element from a list:', choice([1,2,3,4,5])) # it will select number from the given list"
   ]
  },
  {
   "cell_type": "code",
   "execution_count": 21,
   "metadata": {},
   "outputs": [
    {
     "name": "stdout",
     "output_type": "stream",
     "text": [
      "shuffle a list ['Eve', 'Charlie', 'Alice', 'David', 'Bob']\n"
     ]
    }
   ],
   "source": [
    "names = ['Alice', 'Bob', 'Charlie', 'David', 'Eve']\n",
    "shuffle(names)                                        # (shuffle) it will print the list not in ordered form\n",
    "print('shuffle a list', names)"
   ]
  },
  {
   "cell_type": "markdown",
   "metadata": {},
   "source": [
    "## Datetime Library"
   ]
  },
  {
   "cell_type": "code",
   "execution_count": 22,
   "metadata": {},
   "outputs": [],
   "source": [
    "from datetime import datetime as dt"
   ]
  },
  {
   "cell_type": "code",
   "execution_count": 23,
   "metadata": {},
   "outputs": [
    {
     "name": "stdout",
     "output_type": "stream",
     "text": [
      "current date and time: 2024-09-25 11:26:05.374848\n",
      "current date: 2024-09-25\n",
      "current time: 11:26:05.374848\n"
     ]
    }
   ],
   "source": [
    "print('current date and time:', dt.now())    # for date and time\n",
    "print('current date:', dt.now().date())      # for date\n",
    "print('current time:', dt.now().time())      # for time"
   ]
  },
  {
   "cell_type": "code",
   "execution_count": 24,
   "metadata": {},
   "outputs": [
    {
     "name": "stdout",
     "output_type": "stream",
     "text": [
      "current year: 2024\n",
      "current month: 9\n",
      "current day: 25\n",
      "current hour: 11\n",
      "current minute: 26\n",
      "current second: 5\n",
      "current microsecond: 388169\n",
      "current weekday: 2\n"
     ]
    }
   ],
   "source": [
    "print('current year:', dt.now().year)                 # to print current year\n",
    "print('current month:', dt.now().month)               # to print current month\n",
    "print('current day:', dt.now().day)                   # to print current day\n",
    "print('current hour:', dt.now().hour)                 # to print current hour\n",
    "print('current minute:', dt.now().minute)             # to print current minute\n",
    "print('current second:', dt.now().second)             # to print current second\n",
    "print('current microsecond:', dt.now().microsecond)   # to print current microsecond\n",
    "print('current weekday:', dt.now().weekday())         # to print current weekday"
   ]
  },
  {
   "cell_type": "code",
   "execution_count": 25,
   "metadata": {},
   "outputs": [
    {
     "name": "stdout",
     "output_type": "stream",
     "text": [
      "date: 25/09/24\n"
     ]
    }
   ],
   "source": [
    "date = dt.strftime(dt.now(), '%d/%m/%y')             # formating\n",
    "print('date:', date)                             # to show current date"
   ]
  },
  {
   "cell_type": "code",
   "execution_count": 26,
   "metadata": {},
   "outputs": [
    {
     "name": "stdout",
     "output_type": "stream",
     "text": [
      "time: 11:26:05\n"
     ]
    }
   ],
   "source": [
    "time = dt.strftime(dt.now(), '%H:%M:%S')        # to show current time\n",
    "print('time:', time)"
   ]
  },
  {
   "cell_type": "markdown",
   "metadata": {},
   "source": [
    "## OS Library"
   ]
  },
  {
   "cell_type": "code",
   "execution_count": 27,
   "metadata": {},
   "outputs": [],
   "source": [
    "import os"
   ]
  },
  {
   "cell_type": "code",
   "execution_count": 28,
   "metadata": {},
   "outputs": [
    {
     "name": "stdout",
     "output_type": "stream",
     "text": [
      "current working directory: c:\\Users\\Karan Singh\\Desktop\\python class 1\n"
     ]
    }
   ],
   "source": [
    "print('current working directory:', os.getcwd())    # get os.current working directory"
   ]
  },
  {
   "cell_type": "code",
   "execution_count": 29,
   "metadata": {},
   "outputs": [
    {
     "name": "stdout",
     "output_type": "stream",
     "text": [
      "files in the current directory: ['classes.ipynb', 'data analytics class', 'data analytics classes.pyb', 'data structures', 'functions.ipynb', 'library.ipynb', 'turtle class']\n",
      "7 files found\n"
     ]
    }
   ],
   "source": [
    "files = os.listdir()     # os.listdirectory\n",
    "print('files in the current directory:', files)             # to find the files & folders in directory\n",
    "print(len(files),'files found')                             # to find the lenth of file"
   ]
  },
  {
   "cell_type": "code",
   "execution_count": 30,
   "metadata": {},
   "outputs": [
    {
     "name": "stdout",
     "output_type": "stream",
     "text": [
      "files in the specified directory: ['Dictionary.ipynb', 'list.ipynb', 'sets.ipynb', 'string.ipynb']\n"
     ]
    }
   ],
   "source": [
    "files = os.listdir (r\"C:\\Users\\Karan Singh\\Desktop\\python class 1\\data structures\")                        \n",
    "print('files in the specified directory:', files)                  # to find the files in the specific directory"
   ]
  },
  {
   "cell_type": "code",
   "execution_count": 31,
   "metadata": {},
   "outputs": [
    {
     "data": {
      "text/plain": [
       "<generator object walk at 0x00000191E3A8BE10>"
      ]
     },
     "execution_count": 31,
     "metadata": {},
     "output_type": "execute_result"
    }
   ],
   "source": [
    "os.walk('c:')\n"
   ]
  },
  {
   "cell_type": "code",
   "execution_count": 32,
   "metadata": {},
   "outputs": [
    {
     "name": "stdout",
     "output_type": "stream",
     "text": [
      "=> c:\n",
      "=> ['classes.ipynb', 'data analytics class', 'data analytics classes.pyb', 'data structures', 'turtle class']\n",
      "=> ['functions.ipynb', 'library.ipynb']\n",
      "=> c:classes.ipynb\n",
      "=> ['class.pynb']\n",
      "=> ['Assignment.ipynb', 'datatypes.ipynb', 'practice.ipynb', 'YT.ipynb']\n",
      "=> c:classes.ipynb\\class.pynb\n",
      "=> []\n",
      "=> []\n",
      "=> c:data analytics class\n",
      "=> ['.git', 'loops.ipynb']\n",
      "=> ['Assignment.ipynb', 'dataanalyticsclass.ipynb', 'datatypes.ipynb', 'Dictionary.ipynb', 'list.ipynb', 'practice.ipynb', 'sets.ipynb', 'string.ipynb']\n",
      "=> c:data analytics class\\.git\n",
      "=> ['hooks', 'info', 'logs', 'objects', 'refs']\n",
      "=> ['COMMIT_EDITMSG', 'config', 'description', 'FETCH_HEAD', 'HEAD', 'index', 'ORIG_HEAD']\n",
      "=> c:data analytics class\\.git\\hooks\n",
      "=> []\n",
      "=> ['applypatch-msg.sample', 'commit-msg.sample', 'fsmonitor-watchman.sample', 'post-update.sample', 'pre-applypatch.sample', 'pre-commit.sample', 'pre-merge-commit.sample', 'pre-push.sample', 'pre-rebase.sample', 'pre-receive.sample', 'prepare-commit-msg.sample', 'push-to-checkout.sample', 'sendemail-validate.sample', 'update.sample']\n",
      "=> c:data analytics class\\.git\\info\n",
      "=> []\n",
      "=> ['exclude']\n",
      "=> c:data analytics class\\.git\\logs\n",
      "=> ['refs']\n",
      "=> ['HEAD']\n",
      "=> c:data analytics class\\.git\\logs\\refs\n",
      "=> ['heads', 'remotes']\n",
      "=> []\n",
      "=> c:data analytics class\\.git\\logs\\refs\\heads\n",
      "=> []\n",
      "=> ['main']\n",
      "=> c:data analytics class\\.git\\logs\\refs\\remotes\n",
      "=> ['KARAN-SINGH', 'origin']\n",
      "=> []\n",
      "=> c:data analytics class\\.git\\logs\\refs\\remotes\\KARAN-SINGH\n",
      "=> []\n",
      "=> ['main']\n",
      "=> c:data analytics class\\.git\\logs\\refs\\remotes\\origin\n",
      "=> []\n",
      "=> ['main']\n",
      "=> c:data analytics class\\.git\\objects\n",
      "=> ['03', '10', '18', '37', '5a', '63', '68', '6e', '80', '92', 'a0', 'ab', 'b1', 'b2', 'b7', 'b8', 'c2', 'c3', 'ca', 'd1', 'd6', 'dc', 'de', 'e0', 'ec', 'ee', 'f1', 'fb', 'info', 'pack']\n",
      "=> []\n",
      "=> c:data analytics class\\.git\\objects\\03\n",
      "=> []\n",
      "=> ['c97882158bb130f33d288b915a016ce86e6290']\n",
      "=> c:data analytics class\\.git\\objects\\10\n",
      "=> []\n",
      "=> ['51738d1c4703833369497aa47f16ee7d78cce8']\n",
      "=> c:data analytics class\\.git\\objects\\18\n",
      "=> []\n",
      "=> ['6bb3ed92e73d9249caa14a1b402b3538e225ff']\n",
      "=> c:data analytics class\\.git\\objects\\37\n",
      "=> []\n",
      "=> ['12be5cf1a169475f55ccb772fe0c45e33ee90b']\n",
      "=> c:data analytics class\\.git\\objects\\5a\n",
      "=> []\n",
      "=> ['4f317aebc20a24b7a10461c642f9c20944c183']\n",
      "=> c:data analytics class\\.git\\objects\\63\n",
      "=> []\n",
      "=> ['ce4f84f9237aca0610297e3a0483d683cd678c']\n",
      "=> c:data analytics class\\.git\\objects\\68\n",
      "=> []\n",
      "=> ['1713a9bc066f6295c745fba495c19b5c828063', 'c68fb13ed4732702c09489413c3dc9e944da8a']\n",
      "=> c:data analytics class\\.git\\objects\\6e\n",
      "=> []\n",
      "=> ['0e7e628a7b06bc7b5c59c4b50c98cf60b2eaad']\n",
      "=> c:data analytics class\\.git\\objects\\80\n",
      "=> []\n",
      "=> ['6fda28be298ed142e4b49907c4104a555d4070']\n",
      "=> c:data analytics class\\.git\\objects\\92\n",
      "=> []\n",
      "=> ['c7e4a9336c9165ebeb6a63554756d35a567f52']\n",
      "=> c:data analytics class\\.git\\objects\\a0\n",
      "=> []\n",
      "=> ['f5652c3fa6c28e14a2423072a35a1ad4db6417']\n",
      "=> c:data analytics class\\.git\\objects\\ab\n",
      "=> []\n",
      "=> ['d572c971abeba343fb4fc03b222b305637f4c9']\n",
      "=> c:data analytics class\\.git\\objects\\b1\n",
      "=> []\n",
      "=> ['67987430bb7520b567e004adbc655942cc6265']\n",
      "=> c:data analytics class\\.git\\objects\\b2\n",
      "=> []\n",
      "=> ['830dd06c84068b110bb61145a1db019b51f37c']\n",
      "=> c:data analytics class\\.git\\objects\\b7\n",
      "=> []\n",
      "=> ['292aa778914f260d2c30c0466b9d7589c44263']\n",
      "=> c:data analytics class\\.git\\objects\\b8\n",
      "=> []\n",
      "=> ['c00ad6449a4e4414ca5721150699b2bb214251']\n",
      "=> c:data analytics class\\.git\\objects\\c2\n",
      "=> []\n",
      "=> ['9c05e9293124ec436921fe5a07582808e3df57']\n",
      "=> c:data analytics class\\.git\\objects\\c3\n",
      "=> []\n",
      "=> ['c70bd48989438561d32bf2732a170f560916ab']\n",
      "=> c:data analytics class\\.git\\objects\\ca\n",
      "=> []\n",
      "=> ['261ae7c5276081161c1728007286f9245ae824']\n",
      "=> c:data analytics class\\.git\\objects\\d1\n",
      "=> []\n",
      "=> ['52504f7d31a00deb611566b469383e43be4f79']\n",
      "=> c:data analytics class\\.git\\objects\\d6\n",
      "=> []\n",
      "=> ['ef69923fe355ef9694b6f2a79afc965d83b4d6']\n",
      "=> c:data analytics class\\.git\\objects\\dc\n",
      "=> []\n",
      "=> ['5fd0249964df5ed287aef77209e11c5109f035']\n",
      "=> c:data analytics class\\.git\\objects\\de\n",
      "=> []\n",
      "=> ['2fe52291b11d45f647ba3b37eac44515f98b61']\n",
      "=> c:data analytics class\\.git\\objects\\e0\n",
      "=> []\n",
      "=> ['df874355caad76cfb5fa03af0b7d6b4e0417bc']\n",
      "=> c:data analytics class\\.git\\objects\\ec\n",
      "=> []\n",
      "=> ['3a9e22e04aacc21e89ec4fe9e94c48c87d9571']\n",
      "=> c:data analytics class\\.git\\objects\\ee\n",
      "=> []\n",
      "=> ['9acea8382033446b9ed3fede4084b7e5278757']\n",
      "=> c:data analytics class\\.git\\objects\\f1\n",
      "=> []\n",
      "=> ['4d209bfcff1485a84f55659af79591a54d0681']\n",
      "=> c:data analytics class\\.git\\objects\\fb\n",
      "=> []\n",
      "=> ['b9b8825aad5ed42d27a0129deb58cd3b5b20f0']\n",
      "=> c:data analytics class\\.git\\objects\\info\n",
      "=> []\n",
      "=> []\n",
      "=> c:data analytics class\\.git\\objects\\pack\n",
      "=> []\n",
      "=> []\n",
      "=> c:data analytics class\\.git\\refs\n",
      "=> ['heads', 'remotes', 'tags']\n",
      "=> []\n",
      "=> c:data analytics class\\.git\\refs\\heads\n",
      "=> []\n",
      "=> ['main']\n",
      "=> c:data analytics class\\.git\\refs\\remotes\n",
      "=> ['KARAN-SINGH', 'origin']\n",
      "=> []\n",
      "=> c:data analytics class\\.git\\refs\\remotes\\KARAN-SINGH\n",
      "=> []\n",
      "=> ['main']\n",
      "=> c:data analytics class\\.git\\refs\\remotes\\origin\n",
      "=> []\n",
      "=> ['main']\n",
      "=> c:data analytics class\\.git\\refs\\tags\n",
      "=> []\n",
      "=> []\n",
      "=> c:data analytics class\\loops.ipynb\n",
      "=> []\n",
      "=> ['loops.ipynb']\n",
      "=> c:data analytics classes.pyb\n",
      "=> ['__pycache__']\n",
      "=> ['dataanalyticsclass.ipynb', 'iscale.ipynb', 'iscale2.ipynb', 'YT.ipynb']\n",
      "=> c:data analytics classes.pyb\\__pycache__\n",
      "=> []\n",
      "=> ['turtle.cpython-312.pyc']\n",
      "=> c:data structures\n",
      "=> []\n",
      "=> ['Dictionary.ipynb', 'list.ipynb', 'sets.ipynb', 'string.ipynb']\n",
      "=> c:turtle class\n",
      "=> []\n",
      "=> ['Decagon.py', 'hexagon.py']\n",
      "total files found: 84\n"
     ]
    }
   ],
   "source": [
    "total_files = 0\n",
    "for path, folders, files in os.walk('c:'):    # os.wlak ( it is for found deep informatio about files and folders)\n",
    "    print('=>', path)\n",
    "    print('=>', folders)\n",
    "    print('=>', files)\n",
    "    total_files += len(files)\n",
    "print('total files found:', total_files)"
   ]
  },
  {
   "cell_type": "code",
   "execution_count": 34,
   "metadata": {},
   "outputs": [
    {
     "name": "stdout",
     "output_type": "stream",
     "text": [
      "folder exist\n"
     ]
    }
   ],
   "source": [
    "file = r\"C:\\Users\\Karan Singh\\Desktop\\python class 1\\data structures\"\n",
    "if os.path.exists(file):                                                # to find that folder is exist or not\n",
    "    print('folder exist')\n",
    "else:\n",
    "    print('folder soes not exist')"
   ]
  },
  {
   "cell_type": "code",
   "execution_count": 35,
   "metadata": {},
   "outputs": [
    {
     "name": "stdout",
     "output_type": "stream",
     "text": [
      "folder exists\n",
      "folder size 0 bytes\n",
      "folder size in kb: 0.0 KB\n",
      "folder size in Mb: 0.0 MB\n",
      "folder size in GB: 0.0 GB\n"
     ]
    }
   ],
   "source": [
    "files = r\"C:\\Users\\Karan Singh\\Desktop\\python class 1\\data structures\"\n",
    "if os.path.exists(files):                                               # to find that folder is exist or not\n",
    "    print('folder exists')                                              # to find the size of folder\n",
    "    size = os.path.getsize(files)\n",
    "    print('folder size', size, 'bytes')\n",
    "    print('folder size in kb:', size / 1024, 'KB')\n",
    "    print('folder size in Mb:', size / 1024 / 1024, 'MB')\n",
    "    print('folder size in GB:', size / 1024 / 1024 /1024, 'GB')"
   ]
  },
  {
   "cell_type": "code",
   "execution_count": null,
   "metadata": {},
   "outputs": [],
   "source": []
  }
 ],
 "metadata": {
  "kernelspec": {
   "display_name": "base",
   "language": "python",
   "name": "python3"
  },
  "language_info": {
   "codemirror_mode": {
    "name": "ipython",
    "version": 3
   },
   "file_extension": ".py",
   "mimetype": "text/x-python",
   "name": "python",
   "nbconvert_exporter": "python",
   "pygments_lexer": "ipython3",
   "version": "3.12.3"
  }
 },
 "nbformat": 4,
 "nbformat_minor": 2
}
