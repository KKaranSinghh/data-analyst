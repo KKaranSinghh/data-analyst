{
 "cells": [
  {
   "cell_type": "code",
   "execution_count": 1,
   "metadata": {},
   "outputs": [
    {
     "name": "stdout",
     "output_type": "stream",
     "text": [
      "hello python\n"
     ]
    }
   ],
   "source": [
    "print(\"hello python\")"
   ]
  },
  {
   "cell_type": "code",
   "execution_count": 2,
   "metadata": {},
   "outputs": [],
   "source": [
    "a= 10"
   ]
  },
  {
   "cell_type": "code",
   "execution_count": 4,
   "metadata": {},
   "outputs": [
    {
     "data": {
      "text/plain": [
       "10"
      ]
     },
     "execution_count": 4,
     "metadata": {},
     "output_type": "execute_result"
    }
   ],
   "source": [
    "a"
   ]
  },
  {
   "cell_type": "code",
   "execution_count": 5,
   "metadata": {},
   "outputs": [
    {
     "name": "stdout",
     "output_type": "stream",
     "text": [
      "10\n"
     ]
    }
   ],
   "source": [
    "print(a)"
   ]
  },
  {
   "cell_type": "code",
   "execution_count": 1,
   "metadata": {},
   "outputs": [
    {
     "name": "stdout",
     "output_type": "stream",
     "text": [
      "Interactive namespace is empty.\n"
     ]
    }
   ],
   "source": [
    "%whos"
   ]
  },
  {
   "cell_type": "markdown",
   "metadata": {},
   "source": [
    "## operators"
   ]
  },
  {
   "cell_type": "code",
   "execution_count": 1,
   "metadata": {},
   "outputs": [
    {
     "data": {
      "text/plain": [
       "False"
      ]
     },
     "execution_count": 1,
     "metadata": {},
     "output_type": "execute_result"
    }
   ],
   "source": [
    "fruits= ['apple', 'banana', 'mango']   # use (in) operator\n",
    "'orange' in fruits\n",
    "# we get output in the form of true / flase."
   ]
  },
  {
   "cell_type": "markdown",
   "metadata": {},
   "source": [
    "## difference bw (if / elif)"
   ]
  },
  {
   "cell_type": "code",
   "execution_count": 2,
   "metadata": {},
   "outputs": [
    {
     "name": "stdout",
     "output_type": "stream",
     "text": [
      "A+\n",
      "A\n",
      "B\n",
      "C\n",
      "Fail\n"
     ]
    }
   ],
   "source": [
    "marks = 95\n",
    "if marks >= 90:\n",
    "    print('A+')\n",
    "if marks >= 80:\n",
    "    print('A')\n",
    "if marks >= 70:\n",
    "    print('B')\n",
    "if marks >= 60:\n",
    "    print('C')\n",
    "if marks >= 50:\n",
    "    print('Fail')\n",
    "else:\n",
    "    print('Invalid marks')\n"
   ]
  },
  {
   "cell_type": "code",
   "execution_count": 3,
   "metadata": {},
   "outputs": [
    {
     "name": "stdout",
     "output_type": "stream",
     "text": [
      "A+\n"
     ]
    }
   ],
   "source": [
    "marks = 95\n",
    "if marks >= 90:\n",
    "    print('A+')\n",
    "elif marks >= 80:\n",
    "    print('A')\n",
    "elif marks >= 70:\n",
    "    print('B')\n",
    "elif marks >= 60:\n",
    "    print('C')\n",
    "elif marks >= 50:\n",
    "    print('Fail')\n",
    "else:\n",
    "    print('Invalid marks')"
   ]
  },
  {
   "cell_type": "code",
   "execution_count": 12,
   "metadata": {},
   "outputs": [
    {
     "name": "stdout",
     "output_type": "stream",
     "text": [
      "equilateral traingle\n"
     ]
    }
   ],
   "source": [
    "# check the triangle type\n",
    "a= 7\n",
    "b= 7\n",
    "c= 7\n",
    "if a == b and a == c and c == b:\n",
    "    print('equilateral traingle')\n",
    "elif a == b or b == c or a == c:\n",
    "    print('isoceles traingle')\n",
    "else:\n",
    "    print('scalene traingle')\n",
    "\n"
   ]
  },
  {
   "cell_type": "code",
   "execution_count": 16,
   "metadata": {},
   "outputs": [
    {
     "name": "stdout",
     "output_type": "stream",
     "text": [
      "vovel\n"
     ]
    }
   ],
   "source": [
    "r = input(\"enter any alphabet\")  # check the alphabet is vovel or not\n",
    "if r == 'a' or r == 'e' or r == 'i' or r == 'o' or r == 'u':\n",
    "    print('vovel')\n",
    "else:\n",
    "    print(\"constant\")"
   ]
  },
  {
   "cell_type": "code",
   "execution_count": null,
   "metadata": {},
   "outputs": [],
   "source": []
  },
  {
   "cell_type": "code",
   "execution_count": null,
   "metadata": {},
   "outputs": [],
   "source": []
  },
  {
   "cell_type": "code",
   "execution_count": 17,
   "metadata": {},
   "outputs": [
    {
     "name": "stdout",
     "output_type": "stream",
     "text": [
      "a is gratest\n"
     ]
    }
   ],
   "source": [
    "# nested if\n",
    "a = 40\n",
    "b= 30\n",
    "c= 20\n",
    "if a>b:\n",
    "    if a>c:\n",
    "        print('a is gratest')\n",
    "    else:\n",
    "        print('a is not grater than c')\n",
    "else:\n",
    "    print('a is not grater than b')"
   ]
  },
  {
   "cell_type": "code",
   "execution_count": null,
   "metadata": {},
   "outputs": [],
   "source": [
    "# nesting if\n",
    "\n",
    "username = input(\"enter username: \")\n",
    "email = input(\"enter email: \")\n",
    "password = input(\"enter password\")\n",
    "cpass = input(\"enter confirm password\")\n",
    "if len(username)>5 and len(username)<15:\n",
    "    if\"@\" in email and len(email)<=20:\n",
    "        if len(password)>8 and len(password)<=15:\n",
    "            if password == cpass:\n",
    "                print('registration successful')\n",
    "            else:\n",
    "                print('password mismatch')\n",
    "        else:\n",
    "            print('invalid password')\n",
    "    else:\n",
    "        print('invalid email')\n",
    "else:\n",
    "    print('invalid username')"
   ]
  },
  {
   "cell_type": "code",
   "execution_count": null,
   "metadata": {},
   "outputs": [],
   "source": []
  }
 ],
 "metadata": {
  "kernelspec": {
   "display_name": "Python 3",
   "language": "python",
   "name": "python3"
  },
  "language_info": {
   "codemirror_mode": {
    "name": "ipython",
    "version": 3
   },
   "file_extension": ".py",
   "mimetype": "text/x-python",
   "name": "python",
   "nbconvert_exporter": "python",
   "pygments_lexer": "ipython3",
   "version": "3.12.3"
  }
 },
 "nbformat": 4,
 "nbformat_minor": 2
}
